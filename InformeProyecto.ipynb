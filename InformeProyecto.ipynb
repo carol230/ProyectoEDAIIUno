{
 "cells": [
  {
   "cell_type": "raw",
   "metadata": {},
   "source": [
    "---\n",
    "lang: es\n",
    "format:\n",
    "    pdf:\n",
    "        toc: true\n",
    "        toc-title: \"Tabla de Contenidos\"\n",
    "execute:\n",
    "    echo: true\n",
    "    error: false\n",
    "    warning: false\n",
    "jupyter: python3\n",
    "---"
   ]
  },
  {
   "cell_type": "markdown",
   "metadata": {},
   "source": [
    "|                               | ESCUELA POLITÉCNICA NACIONAL |              |\n",
    "|-------------------------------|------------------------------|--------------|\n",
    "| **Estructuras de Datos y Algoritmos II – Computación**     | | **Proyecto**        |\n",
    "| NOMBRES:                      |   Ivonne Carolina Ayala      |              |\n",
    "|                               |   David Esteban Morales      |              |\n",
    "|                               |   Brandon Ismael Freire      |              |\n",
    "\n",
    "## Proyecto Bimestre 1\n",
    "\n",
    "### 1. OBJETIVOS\n",
    "\n",
    "   - Implementar y analizar los algoritmos de Búsqueda en Anchura (BFS) y Búsqueda en Profundidad (DFS) en Python, empleando el paradigma orientado a objetos y la estructura de datos grafo, para comprender su aplicación en la resolución de problemas de conectividad en grafos.\n",
    "   \n",
    "   - Diseñar e implementar una estructura de datos para grafos utilizando clases en Python, definiendo las clases Grafo, Nodo y Arista para representar los componentes básicos de un grafo.\n",
    "\n",
    "   - Implementar la funcionalidad de seguimiento de rutas en ambos algoritmos, para identificar caminos específicos entre un nodo de inicio y un nodo de destino, evaluando el comportamiento de ambos en el problema planteado.\n",
    "\n",
    "### 2. INTRODUCCIÓN\n",
    "\n",
    "En el área de la computación, los grafos representan una de las estructuras de datos fundamentales, utilizadas para modelar un gran número de sistemas complejos como redes sociales, medios de transporte, redes y mapas de rutas/caminos. Un grafo se basa en un conjunto de nodos (también llamados vértices) conectados entre sí mediante aristas, puede ser dirigido o no dirigido, y con pesos o sin pesos. Por lo que, la representación y manipulación de grafos es importante en la resolución de diferentes problemas, independientemente de si sean computacionales o no.\n",
    "\n",
    "En el presente informe, se abordan dos algoritmos fundamentales estudiados hasta el momento: Breadth-first Search (BFS) y Depth-first Search (DFS), cada uno de estos implementados en Python, siguiendo el paradigma orientado a objetos. Para ello, se definieron las clases *Grafo*, *Nodo* y *Arista*, que permiten construir y manipular grafos de manera más flexible. \n",
    "\n",
    "El primero, el algoritmo BFS explora los nodos vecinos de un nivel antes de pasar al siguiente. Dicho de otro modo, se expande hacia fuera desde el nodo inicial, lo que lo hace ideal para encontrar la ruta mas corta. \n",
    "\n",
    "BFS sigue los siguientes pasos generales:\n",
    "\n",
    "1) Inicialización: Se selecciona un vértice origen y crea una cola vacía. Marca el vértice origen como encolado y lo encola.\n",
    "\n",
    "2) Exploración/Búsqueda: Mientras la cola no esté vacía, realiza los siguientes pasos: \n",
    "\n",
    "   a. Desencola el siguiente vértice en la cola. \n",
    "   \n",
    "   b. Procesa el vértice (por ejemplo; se lo puede imprimir o guardar en una lista de vértices visitados, etc.). \n",
    "   \n",
    "   c. Encuentra todos los vértices adyacentes al vértice origen que no han sido encolados y los marca como encolados. A continuación, encola estos vértices en la cola.\n",
    "\n",
    "3) Finalización: Cuando la cola esté vacía, el algoritmo BFS habrá visitado todos los vértices alcanzables desde el vértice origen, lo que temrinará el programa.\n",
    "\n",
    "Por otro lado, el algoritmo DFS explora tan lejos como sea posible a partir de cada nodo antes de retroceder, lo cual es útil en problemas de conectividad, como resolución de laberintos y problemas de búsqueda de rutas/caminos.\n",
    "\n",
    "1) Inicialización: Se selecciona un nodo de inicio, y se inicializan variables para rastrear la ruta y la profundidad.\n",
    "\n",
    "2) Exploración/Búsqueda: Se la realiza de manera recursiva y partiendo del nodo inicio especificado.\n",
    "\n",
    "3) Finalización: Después de haber completado la exploración, se devuelve el path (el camino mas largo encontrado) y la profundidad máxima alcanzada.\n",
    "\n",
    "### 3. EJERCICIOS PLANTEADOS Y/O PROGRAMAS IMPLEMENTADOS"
   ]
  },
  {
   "cell_type": "markdown",
   "metadata": {},
   "source": [
    "1. Dados los algoritmos BFS y DFS, realizar la implementación en Python siguiendo el paradigma orientado a objetos y el ADT de grafo (debería definir las clases Grafo, Nodo y Arista).\n",
    "\n",
    "2. Muestre la ejecución de los dos algoritmos con un ejemplo de grafo (ingreso por consola o por archivo). Asuma la aplicación de BFS y DFS en casos de uso reales (por ejemplo: las salidas de evacuación en un campus universitario) y describa el caso de ejemplo o definición del problema y la demo del algoritmo. Debería desplegarse el resultado para:\n",
    "\n",
    "   a. BFS: la ruta más corta de nodo Start al nodo Finish\n",
    "\n",
    "   b. DFS: la ruta más profunda de nodo Start al nodo Finish\n",
    "\n",
    "3. Prepare un video de 10 a 15 minutos de duración con la presentación de su proyecto (proyección de pantalla y proyección de expositor) y súbalo a Facebook o Youtube. Comparta el link del video en el grupo de whatsapp de la materia. Tiene al menos 20 likes??\n",
    "\n",
    "4. Suba el informe del proyecto en el aula virtual. Debe tener la estructura de un informe (objetivos, introducción, desarrollo, conclusiones y referencias) con su código comentado, con los resultados de pruebas de ejecución de los algoritmos, y con el link del video de la demo."
   ]
  },
  {
   "cell_type": "markdown",
   "metadata": {},
   "source": [
    "### 4. CONCLUSIONES\n",
    "\n",
    "\n",
    "### 5. REFERENCIAS BIBLIOGRÁFICAS\n",
    "Para este informe se utilizó la informacion de la siguiente fuente:\n",
    "\n",
    "- \n",
    "\n",
    "\n",
    "### 6. DECLARACIÓN DE USO DE IA\n",
    "En esta práctica utilicé GPT para revisar y mejorar mi redacción, así como para optimizar la sintaxis de mi trabajo. Además  me ayudó a identificar y corregir los errores que cometí durante el desarrollo de la práctica."
   ]
  }
 ],
 "metadata": {
  "language_info": {
   "name": "python"
  }
 },
 "nbformat": 4,
 "nbformat_minor": 2
}
