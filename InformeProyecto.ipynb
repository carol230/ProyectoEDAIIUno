{
 "cells": [
  {
   "cell_type": "raw",
   "metadata": {},
   "source": [
    "---\n",
    "lang: es\n",
    "format:\n",
    "    pdf:\n",
    "        toc: true\n",
    "        toc-title: \"Tabla de Contenidos\"\n",
    "execute:\n",
    "    echo: true\n",
    "    error: false\n",
    "    warning: false\n",
    "jupyter: python3\n",
    "---"
   ]
  },
  {
   "cell_type": "markdown",
   "metadata": {},
   "source": [
    "| ESCUELA POLITÉCNICA NACIONAL  |                              | INFORME No. |\n",
    "|-------------------------------|------------------------------|--------------|\n",
    "| **Estructuras de Datos y Algoritmos II – Computación**     | | **Proyecto**        |\n",
    "| NOMBRE: Ivonne Carolina Ayala |                              |              |\n",
    "\n",
    "## Proyecto Bimestre 1\n",
    "\n",
    "### 1. OBJETIVOS\n",
    "   * \n",
    "   * \n",
    "\n",
    "### 2. INTRODUCCIÓN\n",
    "En este informe, \n",
    "   \n",
    "### 3. EJERCICIOS PLANTEADOS Y/O PROGRAMAS IMPLEMENTADOS"
   ]
  },
  {
   "cell_type": "markdown",
   "metadata": {},
   "source": [
    "1. Dados los algoritmos BFS y DFS, realizar la implementación en Python siguiendo el paradigma orientado a objetos y el ADT de grafo (debería definir las clases Grafo, Nodo y Arista).\n",
    "\n",
    "2. Muestre la ejecución de los dos algoritmos con un ejemplo de grafo (ingreso por consola o por archivo). Asuma la aplicación de BFS y DFS en casos de uso reales (por ejemplo: las salidas de evacuación en un campus universitario) y describa el caso de ejemplo o definición del problema y la demo del algoritmo. Debería desplegarse el resultado para:\n",
    "\n",
    "   a. BFS: la ruta más corta de nodo Start al nodo Finish\n",
    "\n",
    "   b. DFS: la ruta más profunda de nodo Start al nodo Finish\n",
    "\n",
    "3. Prepare un video de 10 a 15 minutos de duración con la presentación de su proyecto (proyección de pantalla y proyección de expositor) y súbalo a Facebook o Youtube. Comparta el link del video en el grupo de whatsapp de la materia. Tiene al menos 20 likes??\n",
    "\n",
    "4. Suba el informe del proyecto en el aula virtual. Debe tener la estructura de un informe (objetivos, introducción, desarrollo, conclusiones y referencias) con su código comentado, con los resultados de pruebas de ejecución de los algoritmos, y con el link del video de la demo."
   ]
  },
  {
   "cell_type": "markdown",
   "metadata": {},
   "source": [
    "### 4. CONCLUSIONES\n",
    "\n",
    "\n",
    "### 5. REFERENCIAS BIBLIOGRÁFICAS\n",
    "Para este informe se utilizó la informacion de la siguiente fuente:\n",
    "\n",
    "- \n",
    "\n",
    "\n",
    "### 6. DECLARACIÓN DE USO DE IA\n",
    "En esta práctica utilicé GPT para revisar y mejorar mi redacción, así como para optimizar la sintaxis de mi trabajo. Además  me ayudó a identificar y corregir los errores que cometí durante el desarrollo de la práctica."
   ]
  }
 ],
 "metadata": {
  "language_info": {
   "name": "python"
  }
 },
 "nbformat": 4,
 "nbformat_minor": 2
}
