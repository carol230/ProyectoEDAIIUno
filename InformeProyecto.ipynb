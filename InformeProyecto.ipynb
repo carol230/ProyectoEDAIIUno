{
 "cells": [
  {
   "cell_type": "raw",
   "metadata": {},
   "source": [
    "---\n",
    "lang: es\n",
    "format:\n",
    "    pdf:\n",
    "        toc: true\n",
    "        toc-title: \"Tabla de Contenidos\"\n",
    "execute:\n",
    "    echo: true\n",
    "    error: false\n",
    "    warning: false\n",
    "jupyter: python3\n",
    "---"
   ]
  },
  {
   "cell_type": "markdown",
   "metadata": {},
   "source": [
    "| ESCUELA POLITÉCNICA NACIONAL  |                              | INFORME No. |\n",
    "|-------------------------------|------------------------------|--------------|\n",
    "| **Estructuras de Datos y Algoritmos II – Computación**     | | **Proyecto**        |\n",
    "| NOMBRE: Ivonne Carolina Ayala |                              |              |\n",
    "\n",
    "## Proyecto Bimestre 1\n",
    "\n",
    "### 1. OBJETIVOS\n",
    "   * \n",
    "   * \n",
    "\n",
    "### 2. INTRODUCCIÓN\n",
    "En este informe, \n",
    "   \n",
    "### 3. EJERCICIOS PLANTEADOS Y/O PROGRAMAS IMPLEMENTADOS"
   ]
  },
  {
   "cell_type": "markdown",
   "metadata": {},
   "source": [
    "### 4. CONCLUSIONES\n",
    "\n",
    "\n",
    "### 5. REFERENCIAS BIBLIOGRÁFICAS\n",
    "Para este informe se utilizó la informacion de la siguiente fuente:\n",
    "\n",
    "- \n",
    "\n",
    "\n",
    "### 6. DECLARACIÓN DE USO DE IA\n",
    "En esta práctica utilicé GPT para revisar y mejorar mi redacción, así como para optimizar la sintaxis de mi trabajo. Además  me ayudó a identificar y corregir los errores que cometí durante el desarrollo de la práctica."
   ]
  }
 ],
 "metadata": {
  "language_info": {
   "name": "python"
  }
 },
 "nbformat": 4,
 "nbformat_minor": 2
}
